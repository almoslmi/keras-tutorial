{
 "cells": [
  {
   "cell_type": "code",
   "execution_count": 209,
   "metadata": {},
   "outputs": [
    {
     "data": {
      "text/plain": [
       "'http://www.escolaedti.com.br/o-que-e-regressao-linear-entenda-aqui/\\nbasicamente é o estudo  estudar uma variável de interesse (variável dependente) em função de \\noutras variáveis que irão me ajudar a entendê-la, as chamadas covariáveis ou variáveis independentes.\\nExemplo. Dado a idade+escolaridade+localidade, estimar o salário'"
      ]
     },
     "execution_count": 209,
     "metadata": {},
     "output_type": "execute_result"
    }
   ],
   "source": [
    "from keras.models import Sequential\n",
    "from keras.layers import Dense, Activation\n",
    "import numpy as np\n",
    "import matplotlib.pyplot as plt\n",
    "%matplotlib inline\n",
    "'''http://www.escolaedti.com.br/o-que-e-regressao-linear-entenda-aqui/\n",
    "basicamente é o estudo  estudar uma variável de interesse (variável dependente) em função de \n",
    "outras variáveis que irão me ajudar a entendê-la, as chamadas covariáveis ou variáveis independentes.\n",
    "Exemplo. Dado a idade+escolaridade+localidade, estimar o salário'''"
   ]
  },
  {
   "cell_type": "code",
   "execution_count": 210,
   "metadata": {},
   "outputs": [
    {
     "name": "stdout",
     "output_type": "stream",
     "text": [
      "Tamanho:\n",
      "101\n",
      "[-1.   -0.98 -0.96 -0.94 -0.92 -0.9  -0.88 -0.86 -0.84 -0.82 -0.8  -0.78\n",
      " -0.76 -0.74 -0.72 -0.7  -0.68 -0.66 -0.64 -0.62 -0.6  -0.58 -0.56 -0.54\n",
      " -0.52 -0.5  -0.48 -0.46 -0.44 -0.42 -0.4  -0.38 -0.36 -0.34 -0.32 -0.3\n",
      " -0.28 -0.26 -0.24 -0.22 -0.2  -0.18 -0.16 -0.14 -0.12 -0.1  -0.08 -0.06\n",
      " -0.04 -0.02  0.    0.02  0.04  0.06  0.08  0.1   0.12  0.14  0.16  0.18\n",
      "  0.2   0.22  0.24  0.26  0.28  0.3   0.32  0.34  0.36  0.38  0.4   0.42\n",
      "  0.44  0.46  0.48  0.5   0.52  0.54  0.56  0.58  0.6   0.62  0.64  0.66\n",
      "  0.68  0.7   0.72  0.74  0.76  0.78  0.8   0.82  0.84  0.86  0.88  0.9\n",
      "  0.92  0.94  0.96  0.98  1.  ]\n"
     ]
    }
   ],
   "source": [
    "# Gerando os dados\n",
    "trX = np.linspace(-1, 1, 101)\n",
    "# O linspace cria uma sequência de números separados uniformimante, espaçado entre o limite de dados\n",
    "#np.linspace(numero inicial, numero final)\n",
    "print('Tamanho:')\n",
    "print (len(trX))\n",
    "print(trX)\n"
   ]
  },
  {
   "cell_type": "code",
   "execution_count": 211,
   "metadata": {},
   "outputs": [
    {
     "name": "stdout",
     "output_type": "stream",
     "text": [
      "[-1.78492008 -2.04229998 -1.89729129 -1.66621977 -1.22530792 -1.85999823\n",
      " -1.17709849 -1.5476473  -1.83770972 -1.35795062 -1.18663149 -2.06319233\n",
      " -1.13599232 -1.42775433 -1.618776   -1.66597749 -1.34332188 -1.12426965\n",
      " -1.63984544 -0.90166729 -1.1835913  -1.09718666 -0.97995293 -0.58174379\n",
      " -0.84740915 -0.51204409 -0.62441827 -0.94449037 -0.24447259 -0.48008083\n",
      " -0.54932064 -0.53449863 -0.77954506 -0.60833445 -0.68630966 -0.42378306\n",
      " -0.33882991 -0.11231868  0.33340657 -0.182393   -0.29507032 -0.28477587\n",
      " -0.57676807 -0.23522964 -0.53861696  0.18448833 -0.1775833  -0.10276285\n",
      " -0.51249262  0.07782331 -0.15831284 -0.04563593  0.14043869  0.03425697\n",
      "  0.28725234  0.07688221  0.34710258  0.28196027  0.33484583  0.33138698\n",
      "  0.35334776  0.56780637  0.05373289  0.44561681  1.17370838  0.77490161\n",
      "  0.98793558  0.61032184  0.79574457  1.45014567  0.82325247  0.72193188\n",
      "  0.72361023  1.53972692  1.51173142  1.3566726   1.1804503   1.37668113\n",
      "  1.20659724  1.17412678  1.01404654  0.84331979  0.92389951  1.30602455\n",
      "  1.32669967  1.40607514  1.64480678  1.3764042   1.33096882  1.7218714\n",
      "  1.43731681  1.86626354  1.69284124  1.36275826  1.59180908  1.96933819\n",
      "  2.41031492  2.20233572  2.1541681   1.62277584  1.76883706]\n"
     ]
    }
   ],
   "source": [
    "#Gerando os dados\n",
    "'''Criando um valor Y\n",
    "np.random.randn(*trX.shape) cria número(s) aleatórios. \n",
    "Recebe como parâmetro a quantidade de numeros desejadas'''\n",
    "trY = (2 * trX) + (np.random.randn(*trX.shape) * 0.33) \n",
    "print(trY)\n"
   ]
  },
  {
   "cell_type": "code",
   "execution_count": 212,
   "metadata": {},
   "outputs": [],
   "source": [
    "#Criando um modelo sequencial com o Keras https://keras.io/getting-started/sequential-model-guide/\n",
    "\n",
    "model = Sequential()\n",
    "model.add(Dense(1, input_dim=1))\n",
    "model.add(Activation('linear'))\n",
    "model.compile(optimizer='sgd',\n",
    "              loss='mse')"
   ]
  },
  {
   "cell_type": "code",
   "execution_count": 213,
   "metadata": {},
   "outputs": [
    {
     "name": "stdout",
     "output_type": "stream",
     "text": [
      "[array([[0.21735537]], dtype=float32), array([0.], dtype=float32)]\n",
      "Os referidos pesos antes do treino são w: 0.22, b: 0.00\n"
     ]
    }
   ],
   "source": [
    "\n",
    "weights = model.layers[0].get_weights()\n",
    "print(weights)\n",
    "w_init = weights[0][0][0]#pegando o valor\n",
    "b_init = weights[1][0]\n",
    "\n",
    "print('Os referidos pesos antes do treino são w: %.2f, b: %.2f' % (w_init, b_init))"
   ]
  },
  {
   "cell_type": "code",
   "execution_count": 214,
   "metadata": {},
   "outputs": [
    {
     "name": "stdout",
     "output_type": "stream",
     "text": [
      "Epoch 1/100\n",
      "101/101 [==============================] - 0s 2ms/step - loss: 1.0582\n",
      "Epoch 2/100\n",
      "101/101 [==============================] - 0s 41us/step - loss: 1.0005\n",
      "Epoch 3/100\n",
      "101/101 [==============================] - 0s 56us/step - loss: 0.9518\n",
      "Epoch 4/100\n",
      "101/101 [==============================] - 0s 71us/step - loss: 0.9061\n",
      "Epoch 5/100\n",
      "101/101 [==============================] - 0s 62us/step - loss: 0.8603\n",
      "Epoch 6/100\n",
      "101/101 [==============================] - 0s 85us/step - loss: 0.8100\n",
      "Epoch 7/100\n",
      "101/101 [==============================] - 0s 125us/step - loss: 0.7726\n",
      "Epoch 8/100\n",
      "101/101 [==============================] - 0s 74us/step - loss: 0.7307\n",
      "Epoch 9/100\n",
      "101/101 [==============================] - 0s 74us/step - loss: 0.6957\n",
      "Epoch 10/100\n",
      "101/101 [==============================] - 0s 168us/step - loss: 0.6606\n",
      "Epoch 11/100\n",
      "101/101 [==============================] - 0s 66us/step - loss: 0.6279\n",
      "Epoch 12/100\n",
      "101/101 [==============================] - 0s 72us/step - loss: 0.5945\n",
      "Epoch 13/100\n",
      "101/101 [==============================] - 0s 162us/step - loss: 0.5672\n",
      "Epoch 14/100\n",
      "101/101 [==============================] - 0s 67us/step - loss: 0.5425\n",
      "Epoch 15/100\n",
      "101/101 [==============================] - 0s 75us/step - loss: 0.5191\n",
      "Epoch 16/100\n",
      "101/101 [==============================] - 0s 145us/step - loss: 0.4941\n",
      "Epoch 17/100\n",
      "101/101 [==============================] - 0s 69us/step - loss: 0.4710\n",
      "Epoch 18/100\n",
      "101/101 [==============================] - 0s 63us/step - loss: 0.4456\n",
      "Epoch 19/100\n",
      "101/101 [==============================] - 0s 143us/step - loss: 0.4253\n",
      "Epoch 20/100\n",
      "101/101 [==============================] - 0s 70us/step - loss: 0.4075\n",
      "Epoch 21/100\n",
      "101/101 [==============================] - 0s 92us/step - loss: 0.3927\n",
      "Epoch 22/100\n",
      "101/101 [==============================] - 0s 165us/step - loss: 0.3745\n",
      "Epoch 23/100\n",
      "101/101 [==============================] - 0s 67us/step - loss: 0.3558\n",
      "Epoch 24/100\n",
      "101/101 [==============================] - 0s 91us/step - loss: 0.3411\n",
      "Epoch 25/100\n",
      "101/101 [==============================] - 0s 133us/step - loss: 0.3244\n",
      "Epoch 26/100\n",
      "101/101 [==============================] - 0s 77us/step - loss: 0.3116\n",
      "Epoch 27/100\n",
      "101/101 [==============================] - 0s 43us/step - loss: 0.2988\n",
      "Epoch 28/100\n",
      "101/101 [==============================] - 0s 81us/step - loss: 0.2873\n",
      "Epoch 29/100\n",
      "101/101 [==============================] - 0s 48us/step - loss: 0.2752\n",
      "Epoch 30/100\n",
      "101/101 [==============================] - 0s 108us/step - loss: 0.2638\n",
      "Epoch 31/100\n",
      "101/101 [==============================] - 0s 239us/step - loss: 0.2528\n",
      "Epoch 32/100\n",
      "101/101 [==============================] - 0s 143us/step - loss: 0.2432\n",
      "Epoch 33/100\n",
      "101/101 [==============================] - 0s 51us/step - loss: 0.2338\n",
      "Epoch 34/100\n",
      "101/101 [==============================] - 0s 85us/step - loss: 0.2243\n",
      "Epoch 35/100\n",
      "101/101 [==============================] - 0s 205us/step - loss: 0.2173\n",
      "Epoch 36/100\n",
      "101/101 [==============================] - 0s 70us/step - loss: 0.2098\n",
      "Epoch 37/100\n",
      "101/101 [==============================] - 0s 89us/step - loss: 0.2017\n",
      "Epoch 38/100\n",
      "101/101 [==============================] - 0s 60us/step - loss: 0.1952\n",
      "Epoch 39/100\n",
      "101/101 [==============================] - 0s 199us/step - loss: 0.1893\n",
      "Epoch 40/100\n",
      "101/101 [==============================] - 0s 138us/step - loss: 0.1824\n",
      "Epoch 41/100\n",
      "101/101 [==============================] - 0s 190us/step - loss: 0.1761\n",
      "Epoch 42/100\n",
      "101/101 [==============================] - 0s 211us/step - loss: 0.1693\n",
      "Epoch 43/100\n",
      "101/101 [==============================] - 0s 110us/step - loss: 0.1647\n",
      "Epoch 44/100\n",
      "101/101 [==============================] - 0s 182us/step - loss: 0.1600\n",
      "Epoch 45/100\n",
      "101/101 [==============================] - 0s 121us/step - loss: 0.1559\n",
      "Epoch 46/100\n",
      "101/101 [==============================] - 0s 71us/step - loss: 0.1518\n",
      "Epoch 47/100\n",
      "101/101 [==============================] - 0s 172us/step - loss: 0.1479\n",
      "Epoch 48/100\n",
      "101/101 [==============================] - 0s 117us/step - loss: 0.1441\n",
      "Epoch 49/100\n",
      "101/101 [==============================] - 0s 92us/step - loss: 0.1393\n",
      "Epoch 50/100\n",
      "101/101 [==============================] - 0s 105us/step - loss: 0.1357\n",
      "Epoch 51/100\n",
      "101/101 [==============================] - 0s 53us/step - loss: 0.1321\n",
      "Epoch 52/100\n",
      "101/101 [==============================] - 0s 166us/step - loss: 0.1291\n",
      "Epoch 53/100\n",
      "101/101 [==============================] - 0s 60us/step - loss: 0.1260\n",
      "Epoch 54/100\n",
      "101/101 [==============================] - 0s 113us/step - loss: 0.1228\n",
      "Epoch 55/100\n",
      "101/101 [==============================] - 0s 49us/step - loss: 0.1195\n",
      "Epoch 56/100\n",
      "101/101 [==============================] - 0s 64us/step - loss: 0.1173\n",
      "Epoch 57/100\n",
      "101/101 [==============================] - 0s 77us/step - loss: 0.1147\n",
      "Epoch 58/100\n",
      "101/101 [==============================] - 0s 89us/step - loss: 0.1127\n",
      "Epoch 59/100\n",
      "101/101 [==============================] - 0s 69us/step - loss: 0.1104\n",
      "Epoch 60/100\n",
      "101/101 [==============================] - 0s 110us/step - loss: 0.1084\n",
      "Epoch 61/100\n",
      "101/101 [==============================] - 0s 135us/step - loss: 0.1068\n",
      "Epoch 62/100\n",
      "101/101 [==============================] - 0s 62us/step - loss: 0.1047\n",
      "Epoch 63/100\n",
      "101/101 [==============================] - 0s 118us/step - loss: 0.1024\n",
      "Epoch 64/100\n",
      "101/101 [==============================] - 0s 94us/step - loss: 0.1007\n",
      "Epoch 65/100\n",
      "101/101 [==============================] - 0s 233us/step - loss: 0.0994\n",
      "Epoch 66/100\n",
      "101/101 [==============================] - 0s 138us/step - loss: 0.0981\n",
      "Epoch 67/100\n",
      "101/101 [==============================] - 0s 91us/step - loss: 0.0971\n",
      "Epoch 68/100\n",
      "101/101 [==============================] - 0s 54us/step - loss: 0.0956\n",
      "Epoch 69/100\n",
      "101/101 [==============================] - 0s 164us/step - loss: 0.0945\n",
      "Epoch 70/100\n",
      "101/101 [==============================] - 0s 94us/step - loss: 0.0936\n",
      "Epoch 71/100\n",
      "101/101 [==============================] - 0s 89us/step - loss: 0.0924\n",
      "Epoch 72/100\n",
      "101/101 [==============================] - 0s 121us/step - loss: 0.0913\n",
      "Epoch 73/100\n",
      "101/101 [==============================] - 0s 110us/step - loss: 0.0906\n",
      "Epoch 74/100\n",
      "101/101 [==============================] - 0s 45us/step - loss: 0.0897\n",
      "Epoch 75/100\n",
      "101/101 [==============================] - 0s 63us/step - loss: 0.0891\n",
      "Epoch 76/100\n",
      "101/101 [==============================] - 0s 82us/step - loss: 0.0879\n",
      "Epoch 77/100\n",
      "101/101 [==============================] - 0s 71us/step - loss: 0.0872\n",
      "Epoch 78/100\n",
      "101/101 [==============================] - 0s 65us/step - loss: 0.0864\n",
      "Epoch 79/100\n",
      "101/101 [==============================] - 0s 70us/step - loss: 0.0856\n",
      "Epoch 80/100\n",
      "101/101 [==============================] - 0s 70us/step - loss: 0.0850\n",
      "Epoch 81/100\n",
      "101/101 [==============================] - 0s 62us/step - loss: 0.0843\n",
      "Epoch 82/100\n",
      "101/101 [==============================] - 0s 47us/step - loss: 0.0838\n",
      "Epoch 83/100\n",
      "101/101 [==============================] - 0s 88us/step - loss: 0.0833\n",
      "Epoch 84/100\n",
      "101/101 [==============================] - 0s 182us/step - loss: 0.0827\n",
      "Epoch 85/100\n",
      "101/101 [==============================] - 0s 71us/step - loss: 0.0823\n",
      "Epoch 86/100\n",
      "101/101 [==============================] - 0s 98us/step - loss: 0.0817\n",
      "Epoch 87/100\n",
      "101/101 [==============================] - 0s 67us/step - loss: 0.0816\n",
      "Epoch 88/100\n",
      "101/101 [==============================] - 0s 126us/step - loss: 0.0808\n",
      "Epoch 89/100\n",
      "101/101 [==============================] - 0s 115us/step - loss: 0.0805\n",
      "Epoch 90/100\n",
      "101/101 [==============================] - 0s 55us/step - loss: 0.0801\n",
      "Epoch 91/100\n",
      "101/101 [==============================] - 0s 94us/step - loss: 0.0798\n",
      "Epoch 92/100\n",
      "101/101 [==============================] - 0s 76us/step - loss: 0.0794\n",
      "Epoch 93/100\n",
      "101/101 [==============================] - 0s 65us/step - loss: 0.0791\n",
      "Epoch 94/100\n",
      "101/101 [==============================] - 0s 91us/step - loss: 0.0788\n",
      "Epoch 95/100\n",
      "101/101 [==============================] - 0s 230us/step - loss: 0.0783\n",
      "Epoch 96/100\n",
      "101/101 [==============================] - 0s 62us/step - loss: 0.0778\n",
      "Epoch 97/100\n",
      "101/101 [==============================] - 0s 232us/step - loss: 0.0776\n",
      "Epoch 98/100\n"
     ]
    },
    {
     "name": "stdout",
     "output_type": "stream",
     "text": [
      "101/101 [==============================] - 0s 223us/step - loss: 0.0774\n",
      "Epoch 99/100\n",
      "101/101 [==============================] - 0s 94us/step - loss: 0.0772\n",
      "Epoch 100/100\n",
      "101/101 [==============================] - 0s 91us/step - loss: 0.0771\n"
     ]
    },
    {
     "data": {
      "text/plain": [
       "<keras.callbacks.History at 0x7f9b811a3860>"
      ]
     },
     "execution_count": 214,
     "metadata": {},
     "output_type": "execute_result"
    }
   ],
   "source": [
    "# Treinando o modelo com os valores\n",
    "model.fit(trX, trY, epochs=100, verbose=1)"
   ]
  },
  {
   "cell_type": "code",
   "execution_count": 215,
   "metadata": {},
   "outputs": [
    {
     "name": "stdout",
     "output_type": "stream",
     "text": [
      "Linear regression model is trained with weight w: 1.81, b: 0.09\n"
     ]
    }
   ],
   "source": [
    "# Print trained weights\n",
    "weights = model.layers[0].get_weights()\n",
    "w = weights[0][0][0]\n",
    "b = weights[1][0]\n",
    "print('Linear regression model is trained with weight w: %.2f, b: %.2f' % (w, b))"
   ]
  },
  {
   "cell_type": "code",
   "execution_count": 216,
   "metadata": {},
   "outputs": [
    {
     "data": {
      "image/png": "[encoded data removed]",
      "text/plain": [
       "<matplotlib.figure.Figure at 0x7f9b6d7dc320>"
      ]
     },
     "metadata": {},
     "output_type": "display_data"
    }
   ],
   "source": [
    "plt.plot(trX, trY, label='data')\n",
    "plt.plot(trX, w_init*trX + b_init, label='inicial')\n",
    "plt.plot(trX, w*trX + b, label='predicão')\n",
    "plt.legend()\n",
    "plt.show()"
   ]
  },
  {
   "cell_type": "code",
   "execution_count": null,
   "metadata": {},
   "outputs": [],
   "source": []
  }
 ],
 "metadata": {
  "kernelspec": {
   "display_name": "Python 3",
   "language": "python",
   "name": "python3"
  },
  "language_info": {
   "codemirror_mode": {
    "name": "ipython",
    "version": 3
   },
   "file_extension": ".py",
   "mimetype": "text/x-python",
   "name": "python",
   "nbconvert_exporter": "python",
   "pygments_lexer": "ipython3",
   "version": "3.5.2"
  }
 },
 "nbformat": 4,
 "nbformat_minor": 2
}
