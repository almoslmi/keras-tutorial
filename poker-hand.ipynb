{
 "cells": [
  {
   "cell_type": "code",
   "execution_count": 76,
   "metadata": {},
   "outputs": [],
   "source": [
    "import numpy as np\n",
    "#import pandas\n",
    "from keras.models import Sequential\n",
    "from keras.layers import Dense, Dropout\n",
    "from keras.wrappers.scikit_learn import KerasClassifier\n",
    "from keras.utils import np_utils\n",
    "from sklearn.model_selection import cross_val_score\n",
    "from sklearn.model_selection import KFold\n",
    "from sklearn.preprocessing import LabelEncoder\n",
    "from sklearn.pipeline import Pipeline\n",
    "import matplotlib.pyplot as plt\n",
    "%matplotlib inline"
   ]
  },
  {
   "cell_type": "code",
   "execution_count": 77,
   "metadata": {},
   "outputs": [
    {
     "name": "stdout",
     "output_type": "stream",
     "text": [
      "(25010, 10)\n"
     ]
    }
   ],
   "source": [
    "training =  np.loadtxt(\"datasets/poker-hand-training.txt\", delimiter=\",\")\n",
    "#print(len(training))\n",
    "tx = training[:,0:10]\n",
    "ty = training[:,10]\n",
    "#print(tx)\n",
    "print(tx.shape)"
   ]
  },
  {
   "cell_type": "code",
   "execution_count": 78,
   "metadata": {},
   "outputs": [
    {
     "name": "stdout",
     "output_type": "stream",
     "text": [
      "[[0. 0. 0. ... 0. 0. 1.]\n",
      " [0. 0. 0. ... 0. 0. 1.]\n",
      " [0. 0. 0. ... 0. 0. 1.]\n",
      " ...\n",
      " [0. 1. 0. ... 0. 0. 0.]\n",
      " [0. 1. 0. ... 0. 0. 0.]\n",
      " [0. 1. 0. ... 0. 0. 0.]]\n"
     ]
    }
   ],
   "source": [
    "encoder = LabelEncoder()\n",
    "encoder.fit(ty)\n",
    "encoded_Y = encoder.transform(ty)\n",
    "#  one hot encoded\n",
    "dummy_y = np_utils.to_categorical(encoded_Y)\n",
    "print(dummy_y)\n",
    "\n"
   ]
  },
  {
   "cell_type": "code",
   "execution_count": 79,
   "metadata": {},
   "outputs": [],
   "source": [
    "model = Sequential()\n",
    "model.add(Dense(100, input_dim=10,  activation='relu'))\n",
    "model.add(Dense(100, input_dim=10,  activation='relu'))\n",
    "model.add(Dense(75, input_dim=10,  activation='relu'))\n",
    "model.add(Dense(50,  activation='relu'))\n",
    "model.add(Dense(50,  activation='relu'))\n",
    "model.add(Dense(25,  activation='relu'))\n",
    "model.add(Dense(25,  activation='relu'))\n",
    "model.add(Dense(10, activation='softmax'))\n",
    "\n"
   ]
  },
  {
   "cell_type": "code",
   "execution_count": 80,
   "metadata": {},
   "outputs": [],
   "source": [
    "model.compile(loss='categorical_crossentropy', optimizer='adam', metrics=['accuracy'])"
   ]
  },
  {
   "cell_type": "code",
   "execution_count": 81,
   "metadata": {},
   "outputs": [
    {
     "name": "stdout",
     "output_type": "stream",
     "text": [
      "Epoch 1/100\n",
      "25010/25010 [==============================] - 13s 503us/step - loss: 0.9900 - acc: 0.5085\n",
      "Epoch 2/100\n",
      "25010/25010 [==============================] - 7s 267us/step - loss: 0.9696 - acc: 0.5307\n",
      "Epoch 3/100\n",
      "25010/25010 [==============================] - 7s 264us/step - loss: 0.9568 - acc: 0.5409\n",
      "Epoch 4/100\n",
      "25010/25010 [==============================] - 7s 270us/step - loss: 0.9517 - acc: 0.5523\n",
      "Epoch 5/100\n",
      "25010/25010 [==============================] - 7s 266us/step - loss: 0.9424 - acc: 0.5521\n",
      "Epoch 6/100\n",
      "25010/25010 [==============================] - 7s 267us/step - loss: 0.9390 - acc: 0.5566\n",
      "Epoch 7/100\n",
      "25010/25010 [==============================] - 7s 271us/step - loss: 0.9324 - acc: 0.5611\n",
      "Epoch 8/100\n",
      "25010/25010 [==============================] - 7s 270us/step - loss: 0.9237 - acc: 0.5712\n",
      "Epoch 9/100\n",
      "25010/25010 [==============================] - 7s 270us/step - loss: 0.9168 - acc: 0.5763\n",
      "Epoch 10/100\n",
      "25010/25010 [==============================] - 7s 275us/step - loss: 0.9063 - acc: 0.5832\n",
      "Epoch 11/100\n",
      "25010/25010 [==============================] - 7s 270us/step - loss: 0.8901 - acc: 0.5945\n",
      "Epoch 12/100\n",
      "25010/25010 [==============================] - 7s 274us/step - loss: 0.8697 - acc: 0.6089\n",
      "Epoch 13/100\n",
      "25010/25010 [==============================] - 7s 272us/step - loss: 0.8511 - acc: 0.6203\n",
      "Epoch 14/100\n",
      "25010/25010 [==============================] - 7s 275us/step - loss: 0.8323 - acc: 0.6313\n",
      "Epoch 15/100\n",
      "25010/25010 [==============================] - 7s 277us/step - loss: 0.8141 - acc: 0.6457\n",
      "Epoch 16/100\n",
      "25010/25010 [==============================] - 7s 276us/step - loss: 0.7981 - acc: 0.6520\n",
      "Epoch 17/100\n",
      "25010/25010 [==============================] - 7s 272us/step - loss: 0.7799 - acc: 0.6613\n",
      "Epoch 18/100\n",
      "25010/25010 [==============================] - 7s 275us/step - loss: 0.7597 - acc: 0.6733\n",
      "Epoch 19/100\n",
      "25010/25010 [==============================] - 7s 273us/step - loss: 0.7411 - acc: 0.6860\n",
      "Epoch 20/100\n",
      "25010/25010 [==============================] - 7s 277us/step - loss: 0.7459 - acc: 0.6794\n",
      "Epoch 21/100\n",
      "25010/25010 [==============================] - 7s 298us/step - loss: 0.7161 - acc: 0.6956\n",
      "Epoch 22/100\n",
      "25010/25010 [==============================] - 7s 274us/step - loss: 0.6989 - acc: 0.7068\n",
      "Epoch 23/100\n",
      "25010/25010 [==============================] - 7s 278us/step - loss: 0.6663 - acc: 0.7232\n",
      "Epoch 24/100\n",
      "25010/25010 [==============================] - 7s 278us/step - loss: 0.6595 - acc: 0.7225\n",
      "Epoch 25/100\n",
      "25010/25010 [==============================] - 7s 274us/step - loss: 0.6208 - acc: 0.7459\n",
      "Epoch 26/100\n",
      "25010/25010 [==============================] - 7s 283us/step - loss: 0.6045 - acc: 0.7544\n",
      "Epoch 27/100\n",
      "25010/25010 [==============================] - 7s 285us/step - loss: 0.5698 - acc: 0.7714\n",
      "Epoch 28/100\n",
      "25010/25010 [==============================] - 7s 286us/step - loss: 0.5344 - acc: 0.7894\n",
      "Epoch 29/100\n",
      "25010/25010 [==============================] - 7s 285us/step - loss: 0.4972 - acc: 0.8064\n",
      "Epoch 30/100\n",
      "25010/25010 [==============================] - 7s 284us/step - loss: 0.4755 - acc: 0.8189\n",
      "Epoch 31/100\n",
      "25010/25010 [==============================] - 7s 288us/step - loss: 0.4462 - acc: 0.8369\n",
      "Epoch 32/100\n",
      "25010/25010 [==============================] - 7s 287us/step - loss: 0.3998 - acc: 0.8559\n",
      "Epoch 33/100\n",
      "25010/25010 [==============================] - 7s 283us/step - loss: 0.3861 - acc: 0.8612\n",
      "Epoch 34/100\n",
      "25010/25010 [==============================] - 7s 285us/step - loss: 0.3341 - acc: 0.8844\n",
      "Epoch 35/100\n",
      "25010/25010 [==============================] - 7s 285us/step - loss: 0.3008 - acc: 0.8980\n",
      "Epoch 36/100\n",
      "25010/25010 [==============================] - 7s 288us/step - loss: 0.2861 - acc: 0.9037\n",
      "Epoch 37/100\n",
      "25010/25010 [==============================] - 8s 334us/step - loss: 0.2816 - acc: 0.9065\n",
      "Epoch 38/100\n",
      "25010/25010 [==============================] - 7s 289us/step - loss: 0.2605 - acc: 0.9128\n",
      "Epoch 39/100\n",
      "25010/25010 [==============================] - 7s 291us/step - loss: 0.2328 - acc: 0.9269\n",
      "Epoch 40/100\n",
      "25010/25010 [==============================] - 7s 292us/step - loss: 0.2135 - acc: 0.9356\n",
      "Epoch 41/100\n",
      "25010/25010 [==============================] - 7s 291us/step - loss: 0.2056 - acc: 0.9391\n",
      "Epoch 42/100\n",
      "25010/25010 [==============================] - 7s 287us/step - loss: 0.1913 - acc: 0.9457\n",
      "Epoch 43/100\n",
      "25010/25010 [==============================] - 7s 287us/step - loss: 0.1712 - acc: 0.9549\n",
      "Epoch 44/100\n",
      "25010/25010 [==============================] - 7s 293us/step - loss: 0.1449 - acc: 0.9610\n",
      "Epoch 45/100\n",
      "25010/25010 [==============================] - 8s 300us/step - loss: 0.2176 - acc: 0.9375\n",
      "Epoch 46/100\n",
      "25010/25010 [==============================] - 7s 293us/step - loss: 0.1881 - acc: 0.9488\n",
      "Epoch 47/100\n",
      "25010/25010 [==============================] - 7s 299us/step - loss: 0.1343 - acc: 0.9645\n",
      "Epoch 48/100\n",
      "25010/25010 [==============================] - 8s 301us/step - loss: 0.1778 - acc: 0.9528\n",
      "Epoch 49/100\n",
      "25010/25010 [==============================] - 7s 290us/step - loss: 0.1151 - acc: 0.9722\n",
      "Epoch 50/100\n",
      "25010/25010 [==============================] - 7s 291us/step - loss: 0.1724 - acc: 0.9552\n",
      "Epoch 51/100\n",
      "25010/25010 [==============================] - 7s 297us/step - loss: 0.1598 - acc: 0.9594\n",
      "Epoch 52/100\n",
      "25010/25010 [==============================] - 7s 297us/step - loss: 0.2635 - acc: 0.9273\n",
      "Epoch 53/100\n",
      "25010/25010 [==============================] - 7s 265us/step - loss: 0.1887 - acc: 0.9480\n",
      "Epoch 54/100\n",
      "25010/25010 [==============================] - 6s 258us/step - loss: 0.1843 - acc: 0.9497\n",
      "Epoch 55/100\n",
      "25010/25010 [==============================] - 6s 257us/step - loss: 0.1312 - acc: 0.9659\n",
      "Epoch 56/100\n",
      "25010/25010 [==============================] - 6s 258us/step - loss: 0.1395 - acc: 0.9619\n",
      "Epoch 57/100\n",
      "25010/25010 [==============================] - 6s 257us/step - loss: 0.1323 - acc: 0.9680\n",
      "Epoch 58/100\n",
      "25010/25010 [==============================] - 7s 260us/step - loss: 0.2227 - acc: 0.9377\n",
      "Epoch 59/100\n",
      "25010/25010 [==============================] - 6s 256us/step - loss: 0.2734 - acc: 0.9220\n",
      "Epoch 60/100\n",
      "25010/25010 [==============================] - 7s 260us/step - loss: 0.1002 - acc: 0.9762\n",
      "Epoch 61/100\n",
      "25010/25010 [==============================] - 7s 260us/step - loss: 0.1546 - acc: 0.9608\n",
      "Epoch 62/100\n",
      "25010/25010 [==============================] - 7s 263us/step - loss: 0.1411 - acc: 0.9621\n",
      "Epoch 63/100\n",
      "25010/25010 [==============================] - 6s 259us/step - loss: 0.1256 - acc: 0.9693\n",
      "Epoch 64/100\n",
      "25010/25010 [==============================] - 7s 260us/step - loss: 0.1401 - acc: 0.9637\n",
      "Epoch 65/100\n",
      "25010/25010 [==============================] - 7s 266us/step - loss: 0.1442 - acc: 0.9654\n",
      "Epoch 66/100\n",
      "25010/25010 [==============================] - 7s 268us/step - loss: 0.0996 - acc: 0.9762\n",
      "Epoch 67/100\n",
      "25010/25010 [==============================] - 6s 258us/step - loss: 0.1647 - acc: 0.9593\n",
      "Epoch 68/100\n",
      "25010/25010 [==============================] - 7s 260us/step - loss: 0.1311 - acc: 0.9694\n",
      "Epoch 69/100\n",
      "25010/25010 [==============================] - 7s 261us/step - loss: 0.1548 - acc: 0.9611\n",
      "Epoch 70/100\n",
      "25010/25010 [==============================] - 7s 260us/step - loss: 0.0872 - acc: 0.9818\n",
      "Epoch 71/100\n",
      "25010/25010 [==============================] - 6s 258us/step - loss: 0.1745 - acc: 0.9585\n",
      "Epoch 72/100\n",
      "25010/25010 [==============================] - 7s 263us/step - loss: 0.1172 - acc: 0.9726\n",
      "Epoch 73/100\n",
      "25010/25010 [==============================] - 6s 259us/step - loss: 0.2001 - acc: 0.9425\n",
      "Epoch 74/100\n",
      "25010/25010 [==============================] - 7s 263us/step - loss: 0.1173 - acc: 0.9723\n",
      "Epoch 75/100\n",
      "25010/25010 [==============================] - 7s 267us/step - loss: 0.1055 - acc: 0.9752\n",
      "Epoch 76/100\n",
      "25010/25010 [==============================] - 7s 265us/step - loss: 0.1116 - acc: 0.9738\n",
      "Epoch 77/100\n",
      "25010/25010 [==============================] - 6s 260us/step - loss: 0.1567 - acc: 0.9631\n",
      "Epoch 78/100\n",
      "25010/25010 [==============================] - 7s 260us/step - loss: 0.1151 - acc: 0.9738\n",
      "Epoch 79/100\n",
      "25010/25010 [==============================] - 7s 262us/step - loss: 0.2616 - acc: 0.9233\n",
      "Epoch 80/100\n"
     ]
    },
    {
     "name": "stdout",
     "output_type": "stream",
     "text": [
      "25010/25010 [==============================] - 6s 241us/step - loss: 0.1435 - acc: 0.9607\n",
      "Epoch 81/100\n",
      "25010/25010 [==============================] - 6s 238us/step - loss: 0.1400 - acc: 0.9639\n",
      "Epoch 82/100\n",
      "25010/25010 [==============================] - 6s 238us/step - loss: 0.1317 - acc: 0.9681\n",
      "Epoch 83/100\n",
      "25010/25010 [==============================] - 6s 235us/step - loss: 0.1297 - acc: 0.9668\n",
      "Epoch 84/100\n",
      "25010/25010 [==============================] - 6s 239us/step - loss: 0.2837 - acc: 0.9163\n",
      "Epoch 85/100\n",
      "25010/25010 [==============================] - 6s 236us/step - loss: 0.2689 - acc: 0.9212\n",
      "Epoch 86/100\n",
      "25010/25010 [==============================] - 6s 258us/step - loss: 0.2328 - acc: 0.9327\n",
      "Epoch 87/100\n",
      "25010/25010 [==============================] - 7s 260us/step - loss: 0.1067 - acc: 0.9752\n",
      "Epoch 88/100\n",
      "25010/25010 [==============================] - 7s 261us/step - loss: 0.1344 - acc: 0.9662\n",
      "Epoch 89/100\n",
      "25010/25010 [==============================] - 7s 267us/step - loss: 0.3700 - acc: 0.8854\n",
      "Epoch 90/100\n",
      "25010/25010 [==============================] - 7s 266us/step - loss: 0.1999 - acc: 0.9484\n",
      "Epoch 91/100\n",
      "25010/25010 [==============================] - 7s 262us/step - loss: 0.3418 - acc: 0.8971\n",
      "Epoch 92/100\n",
      "25010/25010 [==============================] - 7s 267us/step - loss: 0.2653 - acc: 0.9186\n",
      "Epoch 93/100\n",
      "25010/25010 [==============================] - 7s 283us/step - loss: 0.0956 - acc: 0.9808\n",
      "Epoch 94/100\n",
      "25010/25010 [==============================] - 7s 264us/step - loss: 0.1461 - acc: 0.9636\n",
      "Epoch 95/100\n",
      "25010/25010 [==============================] - 7s 267us/step - loss: 0.1340 - acc: 0.9641\n",
      "Epoch 96/100\n",
      "25010/25010 [==============================] - 7s 268us/step - loss: 0.1623 - acc: 0.9552\n",
      "Epoch 97/100\n",
      "25010/25010 [==============================] - 7s 268us/step - loss: 0.1093 - acc: 0.9720\n",
      "Epoch 98/100\n",
      "25010/25010 [==============================] - 8s 330us/step - loss: 0.1624 - acc: 0.9614\n",
      "Epoch 99/100\n",
      "25010/25010 [==============================] - 7s 281us/step - loss: 0.3776 - acc: 0.8813\n",
      "Epoch 100/100\n",
      "25010/25010 [==============================] - 8s 301us/step - loss: 0.1504 - acc: 0.9645\n"
     ]
    },
    {
     "data": {
      "text/plain": [
       "<keras.callbacks.History at 0x7f9602428b38>"
      ]
     },
     "execution_count": 81,
     "metadata": {},
     "output_type": "execute_result"
    }
   ],
   "source": [
    "model.fit(tx,dummy_y , epochs=100, batch_size=5)"
   ]
  },
  {
   "cell_type": "code",
   "execution_count": 82,
   "metadata": {},
   "outputs": [
    {
     "name": "stdout",
     "output_type": "stream",
     "text": [
      "[[ 1.  1.  1. ...  1. 12.  0.]\n",
      " [ 3. 12.  3. ...  2.  5.  1.]\n",
      " [ 1.  9.  4. ...  3.  9.  1.]\n",
      " ...\n",
      " [ 1. 11.  4. ...  2.  7.  1.]\n",
      " [ 3. 11.  1. ...  2.  8.  1.]\n",
      " [ 2.  5.  2. ...  3.  3.  2.]]\n"
     ]
    }
   ],
   "source": [
    "testing =  np.loadtxt(\"datasets/poker-hand-testing.txt\", delimiter=\",\")\n",
    "print(testing)"
   ]
  },
  {
   "cell_type": "code",
   "execution_count": 85,
   "metadata": {},
   "outputs": [],
   "source": [
    "test = tx = training[:,0:10]\n",
    "pred = model.predict_classes(test)\n"
   ]
  },
  {
   "cell_type": "code",
   "execution_count": null,
   "metadata": {},
   "outputs": [],
   "source": []
  },
  {
   "cell_type": "code",
   "execution_count": null,
   "metadata": {},
   "outputs": [],
   "source": []
  },
  {
   "cell_type": "code",
   "execution_count": null,
   "metadata": {},
   "outputs": [],
   "source": []
  }
 ],
 "metadata": {
  "kernelspec": {
   "display_name": "Python 3",
   "language": "python",
   "name": "python3"
  },
  "language_info": {
   "codemirror_mode": {
    "name": "ipython",
    "version": 3
   },
   "file_extension": ".py",
   "mimetype": "text/x-python",
   "name": "python",
   "nbconvert_exporter": "python",
   "pygments_lexer": "ipython3",
   "version": "3.5.2"
  }
 },
 "nbformat": 4,
 "nbformat_minor": 2
}
